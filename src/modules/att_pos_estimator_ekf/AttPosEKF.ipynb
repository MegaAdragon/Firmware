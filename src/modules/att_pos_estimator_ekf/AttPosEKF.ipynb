{
 "metadata": {
  "name": ""
 },
 "nbformat": 3,
 "nbformat_minor": 0,
 "worksheets": [
  {
   "cells": [
    {
     "cell_type": "code",
     "collapsed": false,
     "input": [
      "from sympy import *\n",
      "from sympy.physics.mechanics import *"
     ],
     "language": "python",
     "metadata": {},
     "outputs": [],
     "prompt_number": 95
    },
    {
     "cell_type": "code",
     "collapsed": false,
     "input": [
      "init_printing()\n",
      "mechanics_printing()"
     ],
     "language": "python",
     "metadata": {},
     "outputs": [],
     "prompt_number": 96
    },
    {
     "cell_type": "code",
     "collapsed": false,
     "input": [
      "Omega, l, L, g, R0, t = symbols('Omega l L g R_0, t')\n",
      "vN, vE, vD = dynamicsymbols('v_N v_E, v_D')\n",
      "L, l, h = dynamicsymbols('L, l, h')\n",
      "phi, theta, psi = dynamicsymbols('phi, theta, psi')\n",
      "fX, fY, fZ, p, q, r = symbols('f_X, f_Y, f_Z, p, q, r')"
     ],
     "language": "python",
     "metadata": {},
     "outputs": [],
     "prompt_number": 97
    },
    {
     "cell_type": "code",
     "collapsed": false,
     "input": [
      "e = ReferenceFrame('e')\n",
      "n = e.orientnew('n', 'Body', [l, L, 0], '321')\n",
      "t1 = n.orientnew('t1', 'Body', [psi, 0, 0], '321')\n",
      "b = n.orientnew('b', 'Body', [psi, theta, phi], '321')"
     ],
     "language": "python",
     "metadata": {},
     "outputs": [],
     "prompt_number": 98
    },
    {
     "cell_type": "code",
     "collapsed": false,
     "input": [
      "b.dcm(n)"
     ],
     "language": "python",
     "metadata": {},
     "outputs": [
      {
       "latex": [
        "$$\\left[\\begin{matrix}\\cos{\\left (\\psi{\\left (t \\right )} \\right )} \\cos{\\left (\\theta{\\left (t \\right )} \\right )} & \\sin{\\left (\\psi{\\left (t \\right )} \\right )} \\cos{\\left (\\theta{\\left (t \\right )} \\right )} & - \\sin{\\left (\\theta{\\left (t \\right )} \\right )}\\\\\\sin{\\left (\\phi{\\left (t \\right )} \\right )} \\sin{\\left (\\theta{\\left (t \\right )} \\right )} \\cos{\\left (\\psi{\\left (t \\right )} \\right )} - \\sin{\\left (\\psi{\\left (t \\right )} \\right )} \\cos{\\left (\\phi{\\left (t \\right )} \\right )} & \\sin{\\left (\\phi{\\left (t \\right )} \\right )} \\sin{\\left (\\psi{\\left (t \\right )} \\right )} \\sin{\\left (\\theta{\\left (t \\right )} \\right )} + \\cos{\\left (\\phi{\\left (t \\right )} \\right )} \\cos{\\left (\\psi{\\left (t \\right )} \\right )} & \\sin{\\left (\\phi{\\left (t \\right )} \\right )} \\cos{\\left (\\theta{\\left (t \\right )} \\right )}\\\\\\sin{\\left (\\phi{\\left (t \\right )} \\right )} \\sin{\\left (\\psi{\\left (t \\right )} \\right )} + \\sin{\\left (\\theta{\\left (t \\right )} \\right )} \\cos{\\left (\\phi{\\left (t \\right )} \\right )} \\cos{\\left (\\psi{\\left (t \\right )} \\right )} & - \\sin{\\left (\\phi{\\left (t \\right )} \\right )} \\cos{\\left (\\psi{\\left (t \\right )} \\right )} + \\sin{\\left (\\psi{\\left (t \\right )} \\right )} \\sin{\\left (\\theta{\\left (t \\right )} \\right )} \\cos{\\left (\\phi{\\left (t \\right )} \\right )} & \\cos{\\left (\\phi{\\left (t \\right )} \\right )} \\cos{\\left (\\theta{\\left (t \\right )} \\right )}\\end{matrix}\\right]$$"
       ],
       "metadata": {},
       "output_type": "pyout",
       "png": "[encoded data removed]",
       "prompt_number": 99,
       "text": [
        "\u23a1                cos(\u03c8(t))\u22c5cos(\u03b8(t))                                  sin(\u03c8(t)\n",
        "\u23a2                                                                             \n",
        "\u23a2sin(\u03c6(t))\u22c5sin(\u03b8(t))\u22c5cos(\u03c8(t)) - sin(\u03c8(t))\u22c5cos(\u03c6(t))  sin(\u03c6(t))\u22c5sin(\u03c8(t))\u22c5sin(\n",
        "\u23a2                                                                             \n",
        "\u23a3sin(\u03c6(t))\u22c5sin(\u03c8(t)) + sin(\u03b8(t))\u22c5cos(\u03c6(t))\u22c5cos(\u03c8(t))  -sin(\u03c6(t))\u22c5cos(\u03c8(t)) + s\n",
        "\n",
        ")\u22c5cos(\u03b8(t))                       -sin(\u03b8(t))     \u23a4\n",
        "                                                 \u23a5\n",
        "\u03b8(t)) + cos(\u03c6(t))\u22c5cos(\u03c8(t))   sin(\u03c6(t))\u22c5cos(\u03b8(t))\u23a5\n",
        "                                                 \u23a5\n",
        "in(\u03c8(t))\u22c5sin(\u03b8(t))\u22c5cos(\u03c6(t))  cos(\u03c6(t))\u22c5cos(\u03b8(t))\u23a6"
       ]
      }
     ],
     "prompt_number": 99
    },
    {
     "cell_type": "code",
     "collapsed": false,
     "input": [
      "f = fX * b.x + fY * b.y + fZ * b.z\n",
      "f"
     ],
     "language": "python",
     "metadata": {},
     "outputs": [
      {
       "metadata": {},
       "output_type": "pyout",
       "prompt_number": 100,
       "text": [
        "f_X*b.x + f_Y*b.y + f_Z*b.z"
       ]
      }
     ],
     "prompt_number": 100
    },
    {
     "cell_type": "code",
     "collapsed": false,
     "input": [
      "f.express(n).dot(n.x)"
     ],
     "language": "python",
     "metadata": {},
     "outputs": [
      {
       "latex": [
        "$$f_{X} \\cos{\\left (\\psi{\\left (t \\right )} \\right )} \\cos{\\left (\\theta{\\left (t \\right )} \\right )} + f_{Y} \\left(\\sin{\\left (\\phi{\\left (t \\right )} \\right )} \\sin{\\left (\\theta{\\left (t \\right )} \\right )} \\cos{\\left (\\psi{\\left (t \\right )} \\right )} - \\sin{\\left (\\psi{\\left (t \\right )} \\right )} \\cos{\\left (\\phi{\\left (t \\right )} \\right )}\\right) + f_{Z} \\left(\\sin{\\left (\\phi{\\left (t \\right )} \\right )} \\sin{\\left (\\psi{\\left (t \\right )} \\right )} + \\sin{\\left (\\theta{\\left (t \\right )} \\right )} \\cos{\\left (\\phi{\\left (t \\right )} \\right )} \\cos{\\left (\\psi{\\left (t \\right )} \\right )}\\right)$$"
       ],
       "metadata": {},
       "output_type": "pyout",
       "png": "[encoded data removed]",
       "prompt_number": 101,
       "text": [
        "f_X\u22c5cos(\u03c8(t))\u22c5cos(\u03b8(t)) + f_Y\u22c5(sin(\u03c6(t))\u22c5sin(\u03b8(t))\u22c5cos(\u03c8(t)) - sin(\u03c8(t))\u22c5cos(\u03c6\n",
        "(t))) + f_Z\u22c5(sin(\u03c6(t))\u22c5sin(\u03c8(t)) + sin(\u03b8(t))\u22c5cos(\u03c6(t))\u22c5cos(\u03c8(t)))"
       ]
      }
     ],
     "prompt_number": 101
    },
    {
     "cell_type": "code",
     "collapsed": false,
     "input": [
      "x_vect = Matrix([phi, theta, psi, vN, vE, vD, L, l, h])\n",
      "u_vect = Matrix([fX, fY, fX, p, q, r])"
     ],
     "language": "python",
     "metadata": {},
     "outputs": [],
     "prompt_number": 102
    },
    {
     "cell_type": "code",
     "collapsed": false,
     "input": [
      "omega_euler = diff(phi,t)*b.x + diff(theta,t)*t1.y + diff(psi,t)*n.z\n",
      "omega_body = p*b.x + q*b.y + r*b.z\n",
      "omega_eq = omega_euler - omega_body\n",
      "euler_rates = solve([omega_eq.dot(b.x), \n",
      "                     omega_eq.dot(b.y), \n",
      "                     omega_eq.dot(b.z)],\n",
      "                     [diff(phi,t),diff(theta,t),diff(psi,t)])\n",
      "euler_rates"
     ],
     "language": "python",
     "metadata": {},
     "outputs": [
      {
       "latex": [
        "$$\\begin{Bmatrix}\\frac{d}{d t} \\phi{\\left (t \\right )} : p + q \\sin{\\left (\\phi{\\left (t \\right )} \\right )} \\tan{\\left (\\theta{\\left (t \\right )} \\right )} + r \\cos{\\left (\\phi{\\left (t \\right )} \\right )} \\tan{\\left (\\theta{\\left (t \\right )} \\right )}, & \\frac{d}{d t} \\psi{\\left (t \\right )} : \\frac{\\cos{\\left (\\phi{\\left (t \\right )} \\right )}}{\\cos{\\left (\\theta{\\left (t \\right )} \\right )}} \\left(q \\tan{\\left (\\phi{\\left (t \\right )} \\right )} + r\\right), & \\frac{d}{d t} \\theta{\\left (t \\right )} : q \\cos{\\left (\\phi{\\left (t \\right )} \\right )} - r \\sin{\\left (\\phi{\\left (t \\right )} \\right )}\\end{Bmatrix}$$"
       ],
       "metadata": {},
       "output_type": "pyout",
       "png": "[encoded data removed]",
       "prompt_number": 103,
       "text": [
        "\u23a7d                                                            d         (q\u22c5tan\n",
        "\u23a8\u2500\u2500(\u03c6(t)): p + q\u22c5sin(\u03c6(t))\u22c5tan(\u03b8(t)) + r\u22c5cos(\u03c6(t))\u22c5tan(\u03b8(t)), \u2500\u2500(\u03c8(t)): \u2500\u2500\u2500\u2500\u2500\u2500\n",
        "\u23a9dt                                                           dt              \n",
        "\n",
        "(\u03c6(t)) + r)\u22c5cos(\u03c6(t))  d                                  \u23ab\n",
        "\u2500\u2500\u2500\u2500\u2500\u2500\u2500\u2500\u2500\u2500\u2500\u2500\u2500\u2500\u2500\u2500\u2500\u2500\u2500\u2500\u2500, \u2500\u2500(\u03b8(t)): q\u22c5cos(\u03c6(t)) - r\u22c5sin(\u03c6(t))\u23ac\n",
        "   cos(\u03b8(t))           dt                                 \u23ad"
       ]
      }
     ],
     "prompt_number": 103
    },
    {
     "cell_type": "code",
     "collapsed": false,
     "input": [
      "f_vect = Matrix([euler_rates[diff(phi,t)], euler_rates[diff(theta,t)], euler_rates[diff(psi,t)],0,0,0,0,0,0])\n",
      "f_vect"
     ],
     "language": "python",
     "metadata": {},
     "outputs": [
      {
       "latex": [
        "$$\\left[\\begin{matrix}p + q \\sin{\\left (\\phi{\\left (t \\right )} \\right )} \\tan{\\left (\\theta{\\left (t \\right )} \\right )} + r \\cos{\\left (\\phi{\\left (t \\right )} \\right )} \\tan{\\left (\\theta{\\left (t \\right )} \\right )}\\\\q \\cos{\\left (\\phi{\\left (t \\right )} \\right )} - r \\sin{\\left (\\phi{\\left (t \\right )} \\right )}\\\\\\frac{\\cos{\\left (\\phi{\\left (t \\right )} \\right )}}{\\cos{\\left (\\theta{\\left (t \\right )} \\right )}} \\left(q \\tan{\\left (\\phi{\\left (t \\right )} \\right )} + r\\right)\\\\0\\\\0\\\\0\\\\0\\\\0\\\\0\\end{matrix}\\right]$$"
       ],
       "metadata": {},
       "output_type": "pyout",
       "png": "[encoded data removed]",
       "prompt_number": 104,
       "text": [
        "\u23a1p + q\u22c5sin(\u03c6(t))\u22c5tan(\u03b8(t)) + r\u22c5cos(\u03c6(t))\u22c5tan(\u03b8(t))\u23a4\n",
        "\u23a2                                                 \u23a5\n",
        "\u23a2            q\u22c5cos(\u03c6(t)) - r\u22c5sin(\u03c6(t))            \u23a5\n",
        "\u23a2                                                 \u23a5\n",
        "\u23a2           (q\u22c5tan(\u03c6(t)) + r)\u22c5cos(\u03c6(t))           \u23a5\n",
        "\u23a2           \u2500\u2500\u2500\u2500\u2500\u2500\u2500\u2500\u2500\u2500\u2500\u2500\u2500\u2500\u2500\u2500\u2500\u2500\u2500\u2500\u2500\u2500\u2500\u2500\u2500\u2500\u2500           \u23a5\n",
        "\u23a2                    cos(\u03b8(t))                    \u23a5\n",
        "\u23a2                                                 \u23a5\n",
        "\u23a2                        0                        \u23a5\n",
        "\u23a2                                                 \u23a5\n",
        "\u23a2                        0                        \u23a5\n",
        "\u23a2                                                 \u23a5\n",
        "\u23a2                        0                        \u23a5\n",
        "\u23a2                                                 \u23a5\n",
        "\u23a2                        0                        \u23a5\n",
        "\u23a2                                                 \u23a5\n",
        "\u23a2                        0                        \u23a5\n",
        "\u23a2                                                 \u23a5\n",
        "\u23a3                        0                        \u23a6"
       ]
      }
     ],
     "prompt_number": 104
    },
    {
     "cell_type": "code",
     "collapsed": false,
     "input": [
      "F = f_vect.jacobian(x_vect)\n",
      "F.simplify()\n",
      "F"
     ],
     "language": "python",
     "metadata": {},
     "outputs": [
      {
       "latex": [
        "$$\\left[\\begin{matrix}\\left(q \\cos{\\left (\\phi{\\left (t \\right )} \\right )} - r \\sin{\\left (\\phi{\\left (t \\right )} \\right )}\\right) \\tan{\\left (\\theta{\\left (t \\right )} \\right )} & \\frac{1}{\\cos^{2}{\\left (\\theta{\\left (t \\right )} \\right )}} \\left(q \\sin{\\left (\\phi{\\left (t \\right )} \\right )} + r \\cos{\\left (\\phi{\\left (t \\right )} \\right )}\\right) & 0 & 0 & 0 & 0 & 0 & 0 & 0\\\\- q \\sin{\\left (\\phi{\\left (t \\right )} \\right )} - r \\cos{\\left (\\phi{\\left (t \\right )} \\right )} & 0 & 0 & 0 & 0 & 0 & 0 & 0 & 0\\\\\\frac{1}{\\cos{\\left (\\theta{\\left (t \\right )} \\right )}} \\left(q \\cos{\\left (\\phi{\\left (t \\right )} \\right )} - r \\sin{\\left (\\phi{\\left (t \\right )} \\right )}\\right) & \\frac{\\sin{\\left (\\theta{\\left (t \\right )} \\right )} \\cos{\\left (\\phi{\\left (t \\right )} \\right )}}{\\cos^{2}{\\left (\\theta{\\left (t \\right )} \\right )}} \\left(q \\tan{\\left (\\phi{\\left (t \\right )} \\right )} + r\\right) & 0 & 0 & 0 & 0 & 0 & 0 & 0\\\\0 & 0 & 0 & 0 & 0 & 0 & 0 & 0 & 0\\\\0 & 0 & 0 & 0 & 0 & 0 & 0 & 0 & 0\\\\0 & 0 & 0 & 0 & 0 & 0 & 0 & 0 & 0\\\\0 & 0 & 0 & 0 & 0 & 0 & 0 & 0 & 0\\\\0 & 0 & 0 & 0 & 0 & 0 & 0 & 0 & 0\\\\0 & 0 & 0 & 0 & 0 & 0 & 0 & 0 & 0\\end{matrix}\\right]$$"
       ],
       "metadata": {},
       "output_type": "pyout",
       "png": "[encoded data removed]",
       "prompt_number": 105,
       "text": [
        "\u23a1                                             q\u22c5sin(\u03c6(t)) + r\u22c5cos(\u03c6(t))       \n",
        "\u23a2(q\u22c5cos(\u03c6(t)) - r\u22c5sin(\u03c6(t)))\u22c5tan(\u03b8(t))        \u2500\u2500\u2500\u2500\u2500\u2500\u2500\u2500\u2500\u2500\u2500\u2500\u2500\u2500\u2500\u2500\u2500\u2500\u2500\u2500\u2500\u2500\u2500\u2500\u2500       \n",
        "\u23a2                                                        2                    \n",
        "\u23a2                                                     cos (\u03b8(t))              \n",
        "\u23a2                                                                             \n",
        "\u23a2     -q\u22c5sin(\u03c6(t)) - r\u22c5cos(\u03c6(t))                          0                   \n",
        "\u23a2                                                                             \n",
        "\u23a2      q\u22c5cos(\u03c6(t)) - r\u22c5sin(\u03c6(t))        (q\u22c5tan(\u03c6(t)) + r)\u22c5sin(\u03b8(t))\u22c5cos(\u03c6(t)) \n",
        "\u23a2      \u2500\u2500\u2500\u2500\u2500\u2500\u2500\u2500\u2500\u2500\u2500\u2500\u2500\u2500\u2500\u2500\u2500\u2500\u2500\u2500\u2500\u2500\u2500\u2500\u2500        \u2500\u2500\u2500\u2500\u2500\u2500\u2500\u2500\u2500\u2500\u2500\u2500\u2500\u2500\u2500\u2500\u2500\u2500\u2500\u2500\u2500\u2500\u2500\u2500\u2500\u2500\u2500\u2500\u2500\u2500\u2500\u2500\u2500\u2500\u2500\u2500\u2500 \n",
        "\u23a2              cos(\u03b8(t))                                 2                    \n",
        "\u23a2                                                     cos (\u03b8(t))              \n",
        "\u23a2                                                                             \n",
        "\u23a2                  0                                      0                   \n",
        "\u23a2                                                                             \n",
        "\u23a2                  0                                      0                   \n",
        "\u23a2                                                                             \n",
        "\u23a2                  0                                      0                   \n",
        "\u23a2                                                                             \n",
        "\u23a2                  0                                      0                   \n",
        "\u23a2                                                                             \n",
        "\u23a2                  0                                      0                   \n",
        "\u23a2                                                                             \n",
        "\u23a3                  0                                      0                   \n",
        "\n",
        "                    \u23a4\n",
        " 0  0  0  0  0  0  0\u23a5\n",
        "                    \u23a5\n",
        "                    \u23a5\n",
        "                    \u23a5\n",
        " 0  0  0  0  0  0  0\u23a5\n",
        "                    \u23a5\n",
        "                    \u23a5\n",
        " 0  0  0  0  0  0  0\u23a5\n",
        "                    \u23a5\n",
        "                    \u23a5\n",
        "                    \u23a5\n",
        " 0  0  0  0  0  0  0\u23a5\n",
        "                    \u23a5\n",
        " 0  0  0  0  0  0  0\u23a5\n",
        "                    \u23a5\n",
        " 0  0  0  0  0  0  0\u23a5\n",
        "                    \u23a5\n",
        " 0  0  0  0  0  0  0\u23a5\n",
        "                    \u23a5\n",
        " 0  0  0  0  0  0  0\u23a5\n",
        "                    \u23a5\n",
        " 0  0  0  0  0  0  0\u23a6"
       ]
      }
     ],
     "prompt_number": 105
    },
    {
     "cell_type": "code",
     "collapsed": false,
     "input": [
      "G = f_vect.jacobian(u_vect)\n",
      "G.simplify()\n",
      "G"
     ],
     "language": "python",
     "metadata": {},
     "outputs": [
      {
       "latex": [
        "$$\\left[\\begin{matrix}0 & 0 & 0 & 1 & \\sin{\\left (\\phi{\\left (t \\right )} \\right )} \\tan{\\left (\\theta{\\left (t \\right )} \\right )} & \\cos{\\left (\\phi{\\left (t \\right )} \\right )} \\tan{\\left (\\theta{\\left (t \\right )} \\right )}\\\\0 & 0 & 0 & 0 & \\cos{\\left (\\phi{\\left (t \\right )} \\right )} & - \\sin{\\left (\\phi{\\left (t \\right )} \\right )}\\\\0 & 0 & 0 & 0 & \\frac{\\sin{\\left (\\phi{\\left (t \\right )} \\right )}}{\\cos{\\left (\\theta{\\left (t \\right )} \\right )}} & \\frac{\\cos{\\left (\\phi{\\left (t \\right )} \\right )}}{\\cos{\\left (\\theta{\\left (t \\right )} \\right )}}\\\\0 & 0 & 0 & 0 & 0 & 0\\\\0 & 0 & 0 & 0 & 0 & 0\\\\0 & 0 & 0 & 0 & 0 & 0\\\\0 & 0 & 0 & 0 & 0 & 0\\\\0 & 0 & 0 & 0 & 0 & 0\\\\0 & 0 & 0 & 0 & 0 & 0\\end{matrix}\\right]$$"
       ],
       "metadata": {},
       "output_type": "pyout",
       "png": "[encoded data removed]",
       "prompt_number": 106,
       "text": [
        "\u23a10  0  0  1  sin(\u03c6(t))\u22c5tan(\u03b8(t))  cos(\u03c6(t))\u22c5tan(\u03b8(t))\u23a4\n",
        "\u23a2                                                    \u23a5\n",
        "\u23a20  0  0  0       cos(\u03c6(t))           -sin(\u03c6(t))     \u23a5\n",
        "\u23a2                                                    \u23a5\n",
        "\u23a2                 sin(\u03c6(t))            cos(\u03c6(t))     \u23a5\n",
        "\u23a20  0  0  0       \u2500\u2500\u2500\u2500\u2500\u2500\u2500\u2500\u2500            \u2500\u2500\u2500\u2500\u2500\u2500\u2500\u2500\u2500     \u23a5\n",
        "\u23a2                 cos(\u03b8(t))            cos(\u03b8(t))     \u23a5\n",
        "\u23a2                                                    \u23a5\n",
        "\u23a20  0  0  0           0                    0         \u23a5\n",
        "\u23a2                                                    \u23a5\n",
        "\u23a20  0  0  0           0                    0         \u23a5\n",
        "\u23a2                                                    \u23a5\n",
        "\u23a20  0  0  0           0                    0         \u23a5\n",
        "\u23a2                                                    \u23a5\n",
        "\u23a20  0  0  0           0                    0         \u23a5\n",
        "\u23a2                                                    \u23a5\n",
        "\u23a20  0  0  0           0                    0         \u23a5\n",
        "\u23a2                                                    \u23a5\n",
        "\u23a30  0  0  0           0                    0         \u23a6"
       ]
      }
     ],
     "prompt_number": 106
    },
    {
     "cell_type": "code",
     "collapsed": false,
     "input": [],
     "language": "python",
     "metadata": {},
     "outputs": []
    }
   ],
   "metadata": {}
  }
 ]
}