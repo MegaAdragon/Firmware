{
 "metadata": {
  "name": ""
 },
 "nbformat": 3,
 "nbformat_minor": 0,
 "worksheets": [
  {
   "cells": [
    {
     "cell_type": "heading",
     "level": 1,
     "metadata": {},
     "source": [
      "Rotational EKF using Euler Angles"
     ]
    },
    {
     "cell_type": "markdown",
     "metadata": {},
     "source": [
      "James Goppert"
     ]
    },
    {
     "cell_type": "code",
     "collapsed": false,
     "input": [
      "from sympy import *\n",
      "from sympy.physics.mechanics import *\n",
      "init_printing()"
     ],
     "language": "python",
     "metadata": {},
     "outputs": [],
     "prompt_number": 1
    },
    {
     "cell_type": "markdown",
     "metadata": {},
     "source": [
      "A function for computing the jacobian of a matrix in SymPy."
     ]
    },
    {
     "cell_type": "code",
     "collapsed": false,
     "input": [
      "def jacobian(f, x):\n",
      "    terms = []\n",
      "    for i in range(len(f)):\n",
      "        terms.append([])\n",
      "        for j in range(len(x)):\n",
      "            terms[i].append(diff(f[i],x[j]))\n",
      "    m = Matrix(terms)\n",
      "    return m"
     ],
     "language": "python",
     "metadata": {},
     "outputs": [],
     "prompt_number": 2
    },
    {
     "cell_type": "heading",
     "level": 2,
     "metadata": {},
     "source": [
      "Variable Declarations"
     ]
    },
    {
     "cell_type": "code",
     "collapsed": false,
     "input": [
      "phi, theta, psi, psi_e, Omega_e = dynamicsymbols('phi, theta, psi, psi_e, \\Omega_e')\n",
      "L, l, h = dynamicsymbols('L, l, h')\n",
      "wx, wy, wz = dynamicsymbols('\\omega_x, \\omega_y, \\omega_z')\n",
      "gbx, gby, gbz = dynamicsymbols('bias_x, bias_y, bias_z')\n",
      "t = symbols('t')"
     ],
     "language": "python",
     "metadata": {},
     "outputs": [],
     "prompt_number": 3
    },
    {
     "cell_type": "heading",
     "level": 2,
     "metadata": {},
     "source": [
      "Reference Frames"
     ]
    },
    {
     "cell_type": "code",
     "collapsed": false,
     "input": [
      "i = ReferenceFrame('i')\n",
      "e = i.orientnew('e','Axis',(psi_e, i.z))\n",
      "n = e.orientnew('n','Body',(-l,-L,0),'321')\n",
      "t1 = n.orientnew('t1','Axis',(psi, n.z))\n",
      "b = t1.orientnew('b','Body',(0,theta,phi),'321')"
     ],
     "language": "python",
     "metadata": {},
     "outputs": [],
     "prompt_number": 4
    },
    {
     "cell_type": "heading",
     "level": 2,
     "metadata": {},
     "source": [
      "Kinematics"
     ]
    },
    {
     "cell_type": "markdown",
     "metadata": {},
     "source": [
      "I check the following direction cosine matrix with page 25 of NASA doc for body 3,2,1 rotation\n",
      "DCM from body to nav frame $C^{nb}$\n",
      "\n",
      "$v_n = C^{nb}v_b$\n",
      "\n",
      "This is how the transformatin is used to transfrom a vector in the b frame to the n frame."
     ]
    },
    {
     "cell_type": "code",
     "collapsed": false,
     "input": [
      "n.dcm(b)"
     ],
     "language": "python",
     "metadata": {},
     "outputs": [
      {
       "latex": [
        "$$\\left[\\begin{smallmatrix}{}\\cos{\\left (\\psi{\\left (t \\right )} \\right )} \\cos{\\left (\\theta{\\left (t \\right )} \\right )} & \\sin{\\left (\\phi{\\left (t \\right )} \\right )} \\sin{\\left (\\theta{\\left (t \\right )} \\right )} \\cos{\\left (\\psi{\\left (t \\right )} \\right )} - \\sin{\\left (\\psi{\\left (t \\right )} \\right )} \\cos{\\left (\\phi{\\left (t \\right )} \\right )} & \\sin{\\left (\\phi{\\left (t \\right )} \\right )} \\sin{\\left (\\psi{\\left (t \\right )} \\right )} + \\sin{\\left (\\theta{\\left (t \\right )} \\right )} \\cos{\\left (\\phi{\\left (t \\right )} \\right )} \\cos{\\left (\\psi{\\left (t \\right )} \\right )}\\\\\\sin{\\left (\\psi{\\left (t \\right )} \\right )} \\cos{\\left (\\theta{\\left (t \\right )} \\right )} & \\sin{\\left (\\phi{\\left (t \\right )} \\right )} \\sin{\\left (\\psi{\\left (t \\right )} \\right )} \\sin{\\left (\\theta{\\left (t \\right )} \\right )} + \\cos{\\left (\\phi{\\left (t \\right )} \\right )} \\cos{\\left (\\psi{\\left (t \\right )} \\right )} & - \\sin{\\left (\\phi{\\left (t \\right )} \\right )} \\cos{\\left (\\psi{\\left (t \\right )} \\right )} + \\sin{\\left (\\psi{\\left (t \\right )} \\right )} \\sin{\\left (\\theta{\\left (t \\right )} \\right )} \\cos{\\left (\\phi{\\left (t \\right )} \\right )}\\\\- \\sin{\\left (\\theta{\\left (t \\right )} \\right )} & \\sin{\\left (\\phi{\\left (t \\right )} \\right )} \\cos{\\left (\\theta{\\left (t \\right )} \\right )} & \\cos{\\left (\\phi{\\left (t \\right )} \\right )} \\cos{\\left (\\theta{\\left (t \\right )} \\right )}\\end{smallmatrix}\\right]$$"
       ],
       "metadata": {},
       "output_type": "pyout",
       "png": "[encoded data removed]",
       "prompt_number": 5,
       "text": [
        "\u23a1cos(\u03c8(t))\u22c5cos(\u03b8(t))  sin(\u03c6(t))\u22c5sin(\u03b8(t))\u22c5cos(\u03c8(t)) - sin(\u03c8(t))\u22c5cos(\u03c6(t))  sin\n",
        "\u23a2                                                                             \n",
        "\u23a2sin(\u03c8(t))\u22c5cos(\u03b8(t))  sin(\u03c6(t))\u22c5sin(\u03c8(t))\u22c5sin(\u03b8(t)) + cos(\u03c6(t))\u22c5cos(\u03c8(t))  -si\n",
        "\u23a2                                                                             \n",
        "\u23a3    -sin(\u03b8(t))                       sin(\u03c6(t))\u22c5cos(\u03b8(t))                     \n",
        "\n",
        "(\u03c6(t))\u22c5sin(\u03c8(t)) + sin(\u03b8(t))\u22c5cos(\u03c6(t))\u22c5cos(\u03c8(t)) \u23a4\n",
        "                                                 \u23a5\n",
        "n(\u03c6(t))\u22c5cos(\u03c8(t)) + sin(\u03c8(t))\u22c5sin(\u03b8(t))\u22c5cos(\u03c6(t))\u23a5\n",
        "                                                 \u23a5\n",
        "             cos(\u03c6(t))\u22c5cos(\u03b8(t))                 \u23a6"
       ]
      }
     ],
     "prompt_number": 5
    },
    {
     "cell_type": "code",
     "collapsed": false,
     "input": [
      "euler_rates = diff(phi,t)*b.x + diff(theta,t)*t1.y + diff(psi,t)*n.z"
     ],
     "language": "python",
     "metadata": {},
     "outputs": [],
     "prompt_number": 6
    },
    {
     "cell_type": "code",
     "collapsed": false,
     "input": [
      "omega = (wx+gbx)*b.x + (wy+gby)*b.y + (wz+gbz)*b.z"
     ],
     "language": "python",
     "metadata": {},
     "outputs": [],
     "prompt_number": 7
    },
    {
     "cell_type": "code",
     "collapsed": false,
     "input": [
      "kin_rot = (euler_rates - omega).express(b)"
     ],
     "language": "python",
     "metadata": {},
     "outputs": [],
     "prompt_number": 8
    },
    {
     "cell_type": "code",
     "collapsed": false,
     "input": [
      "sol = solve([kin_rot.dot(b.x),kin_rot.dot(b.y),kin_rot.dot(b.z)],\n",
      "            [diff(phi,t),diff(theta,t),diff(psi,t)])\n",
      "f_rot = Matrix([sol[diff(phi,t)],sol[diff(theta,t)],sol[diff(psi,t)],0,0,0])\n",
      "f_rot.simplify()\n",
      "Eq(Matrix([diff(phi,t),diff(theta,t),diff(psi,t),diff(gbx,t),diff(gby,t),diff(gbz,t)]),f_rot)"
     ],
     "language": "python",
     "metadata": {},
     "outputs": [
      {
       "latex": [
        "$$\\left[\\begin{smallmatrix}{}\\frac{d}{d t} \\phi{\\left (t \\right )}\\\\\\frac{d}{d t} \\theta{\\left (t \\right )}\\\\\\frac{d}{d t} \\psi{\\left (t \\right )}\\\\\\frac{d}{d t} \\operatorname{bias\\_x}{\\left (t \\right )}\\\\\\frac{d}{d t} \\operatorname{bias\\_y}{\\left (t \\right )}\\\\\\frac{d}{d t} \\operatorname{bias\\_z}{\\left (t \\right )}\\end{smallmatrix}\\right] = \\left[\\begin{smallmatrix}{}\\frac{1}{\\cos{\\left (\\theta{\\left (t \\right )} \\right )}} \\left(\\left(\\omega_x{\\left (t \\right )} + \\operatorname{bias\\_x}{\\left (t \\right )}\\right) \\cos{\\left (\\theta{\\left (t \\right )} \\right )} + \\left(\\omega_y{\\left (t \\right )} \\tan{\\left (\\phi{\\left (t \\right )} \\right )} + \\omega_z{\\left (t \\right )} + \\operatorname{bias\\_y}{\\left (t \\right )} \\tan{\\left (\\phi{\\left (t \\right )} \\right )} + \\operatorname{bias\\_z}{\\left (t \\right )}\\right) \\sin{\\left (\\theta{\\left (t \\right )} \\right )} \\cos{\\left (\\phi{\\left (t \\right )} \\right )}\\right)\\\\\\frac{1}{\\cos{\\left (\\phi{\\left (t \\right )} \\right )}} \\left(- \\frac{1}{2} \\left(\\omega_y{\\left (t \\right )} \\tan{\\left (\\phi{\\left (t \\right )} \\right )} + \\omega_z{\\left (t \\right )} + \\operatorname{bias\\_y}{\\left (t \\right )} \\tan{\\left (\\phi{\\left (t \\right )} \\right )} + \\operatorname{bias\\_z}{\\left (t \\right )}\\right) \\sin{\\left (2 \\phi{\\left (t \\right )} \\right )} + \\omega_y{\\left (t \\right )} + \\operatorname{bias\\_y}{\\left (t \\right )}\\right)\\\\\\frac{\\cos{\\left (\\phi{\\left (t \\right )} \\right )}}{\\cos{\\left (\\theta{\\left (t \\right )} \\right )}} \\left(\\omega_y{\\left (t \\right )} \\tan{\\left (\\phi{\\left (t \\right )} \\right )} + \\omega_z{\\left (t \\right )} + \\operatorname{bias\\_y}{\\left (t \\right )} \\tan{\\left (\\phi{\\left (t \\right )} \\right )} + \\operatorname{bias\\_z}{\\left (t \\right )}\\right)\\\\0\\\\0\\\\0\\end{smallmatrix}\\right]$$"
       ],
       "metadata": {},
       "output_type": "pyout",
       "png": "[encoded data removed]",
       "prompt_number": 9,
       "text": [
        "\u23a1  d          \u23a4   \u23a1(\\omega\u2093(t) + bias\u2093(t))\u22c5cos(\u03b8(t)) + (\\omega_y(t)\u22c5tan(\u03c6(t)) \n",
        "\u23a2  \u2500\u2500(\u03c6(t))   \u23a5 = \u23a2\u2500\u2500\u2500\u2500\u2500\u2500\u2500\u2500\u2500\u2500\u2500\u2500\u2500\u2500\u2500\u2500\u2500\u2500\u2500\u2500\u2500\u2500\u2500\u2500\u2500\u2500\u2500\u2500\u2500\u2500\u2500\u2500\u2500\u2500\u2500\u2500\u2500\u2500\u2500\u2500\u2500\u2500\u2500\u2500\u2500\u2500\u2500\u2500\u2500\u2500\u2500\u2500\u2500\u2500\u2500\u2500\u2500\u2500\u2500\n",
        "\u23a2  dt         \u23a5   \u23a2                                                           \n",
        "\u23a2             \u23a5   \u23a2                                                           \n",
        "\u23a2  d          \u23a5   \u23a2          (\\omega_y(t)\u22c5tan(\u03c6(t)) + \\omega_z(t) + bias_y(t)\u22c5\n",
        "\u23a2  \u2500\u2500(\u03b8(t))   \u23a5   \u23a2        - \u2500\u2500\u2500\u2500\u2500\u2500\u2500\u2500\u2500\u2500\u2500\u2500\u2500\u2500\u2500\u2500\u2500\u2500\u2500\u2500\u2500\u2500\u2500\u2500\u2500\u2500\u2500\u2500\u2500\u2500\u2500\u2500\u2500\u2500\u2500\u2500\u2500\u2500\u2500\u2500\u2500\u2500\u2500\u2500\u2500\u2500\u2500\u2500\u2500\n",
        "\u23a2  dt         \u23a5   \u23a2                                                   2       \n",
        "\u23a2             \u23a5   \u23a2        \u2500\u2500\u2500\u2500\u2500\u2500\u2500\u2500\u2500\u2500\u2500\u2500\u2500\u2500\u2500\u2500\u2500\u2500\u2500\u2500\u2500\u2500\u2500\u2500\u2500\u2500\u2500\u2500\u2500\u2500\u2500\u2500\u2500\u2500\u2500\u2500\u2500\u2500\u2500\u2500\u2500\u2500\u2500\u2500\u2500\u2500\u2500\u2500\u2500\u2500\u2500\n",
        "\u23a2  d          \u23a5   \u23a2                                                           \n",
        "\u23a2  \u2500\u2500(\u03c8(t))   \u23a5   \u23a2                                                           \n",
        "\u23a2  dt         \u23a5   \u23a2                       (\\omega_y(t)\u22c5tan(\u03c6(t)) + \\omega_z(t)\n",
        "\u23a2             \u23a5   \u23a2                       \u2500\u2500\u2500\u2500\u2500\u2500\u2500\u2500\u2500\u2500\u2500\u2500\u2500\u2500\u2500\u2500\u2500\u2500\u2500\u2500\u2500\u2500\u2500\u2500\u2500\u2500\u2500\u2500\u2500\u2500\u2500\u2500\u2500\u2500\u2500\u2500\n",
        "\u23a2d            \u23a5   \u23a2                                                           \n",
        "\u23a2\u2500\u2500(bias\u2093(t)) \u23a5   \u23a2                                                           \n",
        "\u23a2dt           \u23a5   \u23a2                                                           \n",
        "\u23a2             \u23a5   \u23a2                                                           \n",
        "\u23a2d            \u23a5   \u23a2                                                           \n",
        "\u23a2\u2500\u2500(bias_y(t))\u23a5   \u23a2                                                           \n",
        "\u23a2dt           \u23a5   \u23a3                                                           \n",
        "\u23a2             \u23a5                                                               \n",
        "\u23a2d            \u23a5                                                               \n",
        "\u23a2\u2500\u2500(bias_z(t))\u23a5                                                               \n",
        "\u23a3dt           \u23a6                                                               \n",
        "\n",
        "+ \\omega_z(t) + bias_y(t)\u22c5tan(\u03c6(t)) + bias_z(t))\u22c5sin(\u03b8(t))\u22c5cos(\u03c6(t))\u23a4\n",
        "\u2500\u2500\u2500\u2500\u2500\u2500\u2500\u2500\u2500\u2500\u2500\u2500\u2500\u2500\u2500\u2500\u2500\u2500\u2500\u2500\u2500\u2500\u2500\u2500\u2500\u2500\u2500\u2500\u2500\u2500\u2500\u2500\u2500\u2500\u2500\u2500\u2500\u2500\u2500\u2500\u2500\u2500\u2500\u2500\u2500\u2500\u2500\u2500\u2500\u2500\u2500\u2500\u2500\u2500\u2500\u2500\u2500\u2500\u2500\u2500\u2500\u2500\u2500\u2500\u2500\u2500\u2500\u2500\u23a5\n",
        "cos(\u03b8(t))                                                           \u23a5\n",
        "                                                                    \u23a5\n",
        "tan(\u03c6(t)) + bias_z(t))\u22c5sin(2\u22c5\u03c6(t))                                  \u23a5\n",
        "\u2500\u2500\u2500\u2500\u2500\u2500\u2500\u2500\u2500\u2500\u2500\u2500\u2500\u2500\u2500\u2500\u2500\u2500\u2500\u2500\u2500\u2500\u2500\u2500\u2500\u2500\u2500\u2500\u2500\u2500\u2500\u2500\u2500\u2500 + \\omega_y(t) + bias_y(t)        \u23a5\n",
        "                                                                    \u23a5\n",
        "\u2500\u2500\u2500\u2500\u2500\u2500\u2500\u2500\u2500\u2500\u2500\u2500\u2500\u2500\u2500\u2500\u2500\u2500\u2500\u2500\u2500\u2500\u2500\u2500\u2500\u2500\u2500\u2500\u2500\u2500\u2500\u2500\u2500\u2500\u2500\u2500\u2500\u2500\u2500\u2500\u2500\u2500\u2500\u2500\u2500\u2500\u2500\u2500\u2500\u2500\u2500\u2500\u2500\u2500\u2500\u2500\u2500\u2500\u2500\u2500        \u23a5\n",
        "cos(\u03c6(t))                                                           \u23a5\n",
        "                                                                    \u23a5\n",
        " + bias_y(t)\u22c5tan(\u03c6(t)) + bias_z(t))\u22c5cos(\u03c6(t))                       \u23a5\n",
        "\u2500\u2500\u2500\u2500\u2500\u2500\u2500\u2500\u2500\u2500\u2500\u2500\u2500\u2500\u2500\u2500\u2500\u2500\u2500\u2500\u2500\u2500\u2500\u2500\u2500\u2500\u2500\u2500\u2500\u2500\u2500\u2500\u2500\u2500\u2500\u2500\u2500\u2500\u2500\u2500\u2500\u2500\u2500\u2500\u2500                       \u23a5\n",
        "cos(\u03b8(t))                                                           \u23a5\n",
        "                                                                    \u23a5\n",
        "    0                                                               \u23a5\n",
        "                                                                    \u23a5\n",
        "    0                                                               \u23a5\n",
        "                                                                    \u23a5\n",
        "    0                                                               \u23a6\n",
        "                                                                     \n",
        "                                                                     \n",
        "                                                                     \n",
        "                                                                     "
       ]
      }
     ],
     "prompt_number": 9
    },
    {
     "cell_type": "code",
     "collapsed": false,
     "input": [
      "u = Matrix([wx,wy,wz])\n",
      "x = Matrix([phi,theta,psi,gbx,gby,gbz])"
     ],
     "language": "python",
     "metadata": {},
     "outputs": [],
     "prompt_number": 10
    },
    {
     "cell_type": "code",
     "collapsed": false,
     "input": [
      "F = jacobian(f_rot,x).subs({})\n",
      "F.simplify()"
     ],
     "language": "python",
     "metadata": {},
     "outputs": [],
     "prompt_number": 11
    },
    {
     "cell_type": "code",
     "collapsed": false,
     "input": [
      "for i in range(F.shape[0]):\n",
      "    for j in range(F.shape[1]):\n",
      "        if F[i,j] != 0:\n",
      "            print(\"F({:d},{:d}) = {:s}\".format(i,j,msprint(F[i,j])))"
     ],
     "language": "python",
     "metadata": {},
     "outputs": [
      {
       "output_type": "stream",
       "stream": "stdout",
       "text": [
        "F(0,0) = (-(\\omega_y*tan(phi) + \\omega_z + bias_y*tan(phi) + bias_z)*sin(phi)*cos(phi) + \\omega_y + bias_y)*tan(theta)/cos(phi)\n",
        "F(0,1) = (\\omega_y*sin(phi) + \\omega_z*cos(phi) + bias_y*sin(phi) + bias_z*cos(phi))/cos(theta)**2\n",
        "F(0,3) = 1\n",
        "F(0,4) = sin(phi)*tan(theta)\n",
        "F(0,5) = cos(phi)*tan(theta)\n",
        "F(1,0) = -\\omega_y*sin(phi) - \\omega_z*cos(phi) - bias_y*sin(phi) - bias_z*cos(phi)\n",
        "F(1,4) = cos(phi)\n",
        "F(1,5) = -sin(phi)\n",
        "F(2,0) = ((\\omega_y + bias_y)/cos(phi) - (\\omega_y*tan(phi) + \\omega_z + bias_y*tan(phi) + bias_z)*sin(phi))/cos(theta)\n",
        "F(2,1) = (\\omega_y*tan(phi) + \\omega_z + bias_y*tan(phi) + bias_z)*sin(theta)*cos(phi)/cos(theta)**2\n",
        "F(2,4) = sin(phi)/cos(theta)\n",
        "F(2,5) = cos(phi)/cos(theta)\n"
       ]
      }
     ],
     "prompt_number": 12
    },
    {
     "cell_type": "markdown",
     "metadata": {},
     "source": [
      "I never see this F matrix in the literature, they usually assume that the angular velocities and biases are close to zero\n",
      "as shown below, but it shouldn't take much effort to use the matrix F above."
     ]
    },
    {
     "cell_type": "code",
     "collapsed": false,
     "input": [
      "F.subs({wx:0,wy:0,wz:0,gbx:0,gby:0,gbz:0})"
     ],
     "language": "python",
     "metadata": {},
     "outputs": [
      {
       "latex": [
        "$$\\left[\\begin{smallmatrix}{}0 & 0 & 0 & 1 & \\sin{\\left (\\phi{\\left (t \\right )} \\right )} \\tan{\\left (\\theta{\\left (t \\right )} \\right )} & \\cos{\\left (\\phi{\\left (t \\right )} \\right )} \\tan{\\left (\\theta{\\left (t \\right )} \\right )}\\\\0 & 0 & 0 & 0 & \\cos{\\left (\\phi{\\left (t \\right )} \\right )} & - \\sin{\\left (\\phi{\\left (t \\right )} \\right )}\\\\0 & 0 & 0 & 0 & \\frac{\\sin{\\left (\\phi{\\left (t \\right )} \\right )}}{\\cos{\\left (\\theta{\\left (t \\right )} \\right )}} & \\frac{\\cos{\\left (\\phi{\\left (t \\right )} \\right )}}{\\cos{\\left (\\theta{\\left (t \\right )} \\right )}}\\\\0 & 0 & 0 & 0 & 0 & 0\\\\0 & 0 & 0 & 0 & 0 & 0\\\\0 & 0 & 0 & 0 & 0 & 0\\end{smallmatrix}\\right]$$"
       ],
       "metadata": {},
       "output_type": "pyout",
       "png": "[encoded data removed]",
       "prompt_number": 13,
       "text": [
        "\u23a10  0  0  1  sin(\u03c6(t))\u22c5tan(\u03b8(t))  cos(\u03c6(t))\u22c5tan(\u03b8(t))\u23a4\n",
        "\u23a2                                                    \u23a5\n",
        "\u23a20  0  0  0       cos(\u03c6(t))           -sin(\u03c6(t))     \u23a5\n",
        "\u23a2                                                    \u23a5\n",
        "\u23a2                 sin(\u03c6(t))            cos(\u03c6(t))     \u23a5\n",
        "\u23a20  0  0  0       \u2500\u2500\u2500\u2500\u2500\u2500\u2500\u2500\u2500            \u2500\u2500\u2500\u2500\u2500\u2500\u2500\u2500\u2500     \u23a5\n",
        "\u23a2                 cos(\u03b8(t))            cos(\u03b8(t))     \u23a5\n",
        "\u23a2                                                    \u23a5\n",
        "\u23a20  0  0  0           0                    0         \u23a5\n",
        "\u23a2                                                    \u23a5\n",
        "\u23a20  0  0  0           0                    0         \u23a5\n",
        "\u23a2                                                    \u23a5\n",
        "\u23a30  0  0  0           0                    0         \u23a6"
       ]
      }
     ],
     "prompt_number": 13
    },
    {
     "cell_type": "code",
     "collapsed": false,
     "input": [
      "G = jacobian(f_rot,u)\n",
      "G.simplify()\n",
      "G"
     ],
     "language": "python",
     "metadata": {},
     "outputs": [
      {
       "latex": [
        "$$\\left[\\begin{smallmatrix}{}1 & \\sin{\\left (\\phi{\\left (t \\right )} \\right )} \\tan{\\left (\\theta{\\left (t \\right )} \\right )} & \\cos{\\left (\\phi{\\left (t \\right )} \\right )} \\tan{\\left (\\theta{\\left (t \\right )} \\right )}\\\\0 & \\cos{\\left (\\phi{\\left (t \\right )} \\right )} & - \\sin{\\left (\\phi{\\left (t \\right )} \\right )}\\\\0 & \\frac{\\sin{\\left (\\phi{\\left (t \\right )} \\right )}}{\\cos{\\left (\\theta{\\left (t \\right )} \\right )}} & \\frac{\\cos{\\left (\\phi{\\left (t \\right )} \\right )}}{\\cos{\\left (\\theta{\\left (t \\right )} \\right )}}\\\\0 & 0 & 0\\\\0 & 0 & 0\\\\0 & 0 & 0\\end{smallmatrix}\\right]$$"
       ],
       "metadata": {},
       "output_type": "pyout",
       "png": "[encoded data removed]",
       "prompt_number": 14,
       "text": [
        "\u23a11  sin(\u03c6(t))\u22c5tan(\u03b8(t))  cos(\u03c6(t))\u22c5tan(\u03b8(t))\u23a4\n",
        "\u23a2                                           \u23a5\n",
        "\u23a20       cos(\u03c6(t))           -sin(\u03c6(t))     \u23a5\n",
        "\u23a2                                           \u23a5\n",
        "\u23a2        sin(\u03c6(t))            cos(\u03c6(t))     \u23a5\n",
        "\u23a20       \u2500\u2500\u2500\u2500\u2500\u2500\u2500\u2500\u2500            \u2500\u2500\u2500\u2500\u2500\u2500\u2500\u2500\u2500     \u23a5\n",
        "\u23a2        cos(\u03b8(t))            cos(\u03b8(t))     \u23a5\n",
        "\u23a2                                           \u23a5\n",
        "\u23a20           0                    0         \u23a5\n",
        "\u23a2                                           \u23a5\n",
        "\u23a20           0                    0         \u23a5\n",
        "\u23a2                                           \u23a5\n",
        "\u23a30           0                    0         \u23a6"
       ]
      }
     ],
     "prompt_number": 14
    }
   ],
   "metadata": {}
  }
 ]
}